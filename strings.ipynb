{
 "cells": [
  {
   "cell_type": "code",
   "execution_count": 2,
   "metadata": {},
   "outputs": [
    {
     "name": "stdout",
     "output_type": "stream",
     "text": [
      "Carlos\n",
      "Carlos\n",
      "Carlos\n",
      "Carlos\n",
      "Carlos\n",
      "Carlos\n",
      "Carlos\n",
      "Carlos\n",
      "Carlos\n",
      "Carlos\n",
      "\n"
     ]
    }
   ],
   "source": [
    "nombre = input(\"Escriba su nombre: \")\n",
    "num = int(input(\"numero: \"))\n",
    "\n",
    "print((nombre + \"\\n\") * num)"
   ]
  },
  {
   "cell_type": "code",
   "execution_count": 3,
   "metadata": {},
   "outputs": [
    {
     "name": "stdout",
     "output_type": "stream",
     "text": [
      "carlos\n",
      "CARLOS\n",
      "Carlos\n"
     ]
    }
   ],
   "source": [
    "nombre = input(\"Escriba su nombre: \")\n",
    "\n",
    "print(nombre.lower())\n",
    "print(nombre.upper())\n",
    "print(nombre.title())"
   ]
  },
  {
   "cell_type": "code",
   "execution_count": 8,
   "metadata": {},
   "outputs": [
    {
     "name": "stdout",
     "output_type": "stream",
     "text": [
      "CARLOS tiene 6 letras \n"
     ]
    }
   ],
   "source": [
    "print(nombre.upper() + \" tiene \" + str(len(nombre)) + \" letras \")"
   ]
  },
  {
   "cell_type": "code",
   "execution_count": 12,
   "metadata": {},
   "outputs": [
    {
     "name": "stdout",
     "output_type": "stream",
     "text": [
      "913724710\n"
     ]
    }
   ],
   "source": [
    "numero = \"+34-913724710-56\"\n",
    "print(numero[4:-3])"
   ]
  },
  {
   "cell_type": "code",
   "execution_count": 19,
   "metadata": {},
   "outputs": [
    {
     "name": "stdout",
     "output_type": "stream",
     "text": [
      "ni euq oirausu la adip eu\n"
     ]
    }
   ],
   "source": [
    "frase = \"ue pida al usuario que in\"\n",
    "print(frase[::-1])"
   ]
  },
  {
   "cell_type": "code",
   "execution_count": 23,
   "metadata": {},
   "outputs": [
    {
     "data": {
      "text/plain": [
       "'Escribir un progrAmA que pidA Al usuArio.'"
      ]
     },
     "execution_count": 23,
     "metadata": {},
     "output_type": "execute_result"
    }
   ],
   "source": [
    "frase = \"Escribir un programa que pida al usuario.\"\n",
    "vocal = \"a\"\n",
    "\n",
    "frase.replace(vocal,vocal.upper())"
   ]
  },
  {
   "cell_type": "code",
   "execution_count": 30,
   "metadata": {},
   "outputs": [
    {
     "name": "stdout",
     "output_type": "stream",
     "text": [
      "1\n",
      "23\n",
      "2023\n",
      "\n",
      "dia: 1\n"
     ]
    }
   ],
   "source": [
    "fecha = \"1/23/2023\"\n",
    "print(fecha.split(\"/\")[0])\n",
    "print(fecha.split(\"/\")[1])\n",
    "print(fecha.split(\"/\")[2]+ \"\\n\")\n",
    "\n",
    "print(\"dia: \" + fecha[0:fecha.find(\"/\")])\n",
    "print(\"dia: \" + fecha[fecha.find(\"/\")+1:fecha.find(\"/\",2)])"
   ]
  }
 ],
 "metadata": {
  "kernelspec": {
   "display_name": "Python 3",
   "language": "python",
   "name": "python3"
  },
  "language_info": {
   "codemirror_mode": {
    "name": "ipython",
    "version": 3
   },
   "file_extension": ".py",
   "mimetype": "text/x-python",
   "name": "python",
   "nbconvert_exporter": "python",
   "pygments_lexer": "ipython3",
   "version": "3.12.3"
  }
 },
 "nbformat": 4,
 "nbformat_minor": 2
}
